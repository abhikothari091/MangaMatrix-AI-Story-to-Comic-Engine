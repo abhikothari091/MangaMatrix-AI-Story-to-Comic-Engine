{
 "cells": [
  {
   "cell_type": "code",
   "execution_count": 51,
   "id": "93c21565-ce32-4669-9508-2a5077784fd3",
   "metadata": {},
   "outputs": [],
   "source": [
    "import os\n",
    "import re"
   ]
  },
  {
   "cell_type": "code",
   "execution_count": 53,
   "id": "332c0170-af5f-4550-82c0-53b622b66055",
   "metadata": {},
   "outputs": [],
   "source": [
    "path = r\"C:\\Users\\vigne\\Desktop\\Higher studies\\Northeastern University Boston\\Courses\\Semester 2\\DS5983(LLMs)\\LLM Project\"\n",
    "filenames = os.listdir(path)"
   ]
  },
  {
   "cell_type": "code",
   "execution_count": 55,
   "id": "58a1a7d4-0a1d-4267-8c3a-105e093adf01",
   "metadata": {},
   "outputs": [],
   "source": [
    "import math\n",
    "\n",
    "def estimate_chunk_count(text_length, chunk_size, overlap):\n",
    "    assert chunk_size > overlap, \"Overlap must be smaller than chunk size.\"\n",
    "    step = chunk_size - overlap\n",
    "    return math.ceil(max(0, text_length - chunk_size) / step) + 1\n"
   ]
  },
  {
   "cell_type": "code",
   "execution_count": 57,
   "id": "94e85115-c07f-4e42-b0f5-6092775710e5",
   "metadata": {},
   "outputs": [],
   "source": [
    "def chunk_with_overlap_and_prompt(text, chunk_size=500, overlap=100, title=\"\"):\n",
    "    assert overlap < chunk_size, \"Overlap must be smaller than chunk size.\"\n",
    "    total_chunks = estimate_chunk_count(len(text), 500, 100)\n",
    "    chunk_count = 1\n",
    "    chunks = []\n",
    "    start = 0\n",
    "    while start < len(text):\n",
    "        prompt = f\"<|startoftext|>\\n[Story ID: {title}][Part: {chunk_count} of {total_chunks}]\\n\"\n",
    "        end = start + chunk_size \n",
    "        chunk = text[start:end]\n",
    "        full_chunk = prompt + chunk + \"\\n<|endoftext|>\"\n",
    "        chunks.append(full_chunk)\n",
    "        start += chunk_size - overlap\n",
    "        chunk_count += 1\n",
    "    return chunks\n"
   ]
  },
  {
   "cell_type": "code",
   "execution_count": 59,
   "id": "d10f14c6-dca2-4800-9387-418843e4dcf3",
   "metadata": {},
   "outputs": [
    {
     "name": "stdout",
     "output_type": "stream",
     "text": [
      "C:\\Users\\vigne\\Desktop\\Higher studies\\Northeastern University Boston\\Courses\\Semester 2\\DS5983(LLMs)\\LLM Project\\Howls Moving Castle.txt\n",
      "C:\\Users\\vigne\\Desktop\\Higher studies\\Northeastern University Boston\\Courses\\Semester 2\\DS5983(LLMs)\\LLM Project\\KIKI'S DELIVERY SERVICE.txt\n",
      "C:\\Users\\vigne\\Desktop\\Higher studies\\Northeastern University Boston\\Courses\\Semester 2\\DS5983(LLMs)\\LLM Project\\Land of the Lustrous(Houseki no Kuni).txt\n",
      "C:\\Users\\vigne\\Desktop\\Higher studies\\Northeastern University Boston\\Courses\\Semester 2\\DS5983(LLMs)\\LLM Project\\LUPIN III-CAGLIOSTRO CASTLE.txt\n",
      "C:\\Users\\vigne\\Desktop\\Higher studies\\Northeastern University Boston\\Courses\\Semester 2\\DS5983(LLMs)\\LLM Project\\The Castle in the Sky(Laputa).txt\n",
      "C:\\Users\\vigne\\Desktop\\Higher studies\\Northeastern University Boston\\Courses\\Semester 2\\DS5983(LLMs)\\LLM Project\\THE CRIMSON PIG (PORCO ROSSO).txt\n",
      "C:\\Users\\vigne\\Desktop\\Higher studies\\Northeastern University Boston\\Courses\\Semester 2\\DS5983(LLMs)\\LLM Project\\The Grave of the Fireflies(Hotaru no Haka).txt\n"
     ]
    }
   ],
   "source": [
    "pattern = r\"^Title:\\s*(.*)\"\n",
    "final_chunks = []\n",
    "chunk_size = 500\n",
    "overlap=100\n",
    "for file in filenames:\n",
    "    file_path = path + \"\\\\\" + file\n",
    "    print(file_path)\n",
    "    with open(file_path, \"r\", encoding=\"utf-8\") as f:\n",
    "        lines = f.read()\n",
    "        title = re.findall(pattern, lines, flags=re.MULTILINE)[0]\n",
    "        match = re.search(r\"^Title:.*\\n([\\s\\S]*)\", lines, flags=re.MULTILINE)\n",
    "        content = match.group(1)\n",
    "        chunks = chunk_with_overlap_and_prompt(content, chunk_size=chunk_size, overlap=overlap, title=title)\n",
    "        final_chunks.extend(chunks)"
   ]
  },
  {
   "cell_type": "code",
   "execution_count": 65,
   "id": "b562225c-a2cb-429a-ade9-49c3d6a64274",
   "metadata": {},
   "outputs": [
    {
     "name": "stdout",
     "output_type": "stream",
     "text": [
      "<|startoftext|>\n",
      "[Story ID: Howls Moving Castle][Part: 1 of 105]\n",
      "\n",
      "Bettie Sophie, I just closed the shop.  \n",
      "\n",
      "I thought you were coming?  \n",
      "\n",
      "I have to finish this.  I hope you enjoy.  \n",
      "\n",
      "OK, I'm off.  \n",
      "\n",
      "Let's go girls.  Wait up!  Isn't anything wrong with my dress, is it?  Check \n",
      "it out!  Howl's castle is there.  \n",
      "\n",
      "Yeah?  The castle?  Where?  It's over there!  Wow!  So close!  \n",
      "\n",
      "Oh, my. . .  I wonder if Howl is in town.  \n",
      "\n",
      "Oh, it's gone!  It just hidden in the mist.  Didn't you see those battle \n",
      "ships just passed in front of the window?  \n",
      "\n",
      "Have you heard of a gir\n",
      "<|endoftext|>\n"
     ]
    }
   ],
   "source": [
    "print(final_chunks[0])"
   ]
  },
  {
   "cell_type": "code",
   "execution_count": 67,
   "id": "299eb661-9e75-42d4-a68a-7372c47f28e1",
   "metadata": {},
   "outputs": [
    {
     "name": "stdout",
     "output_type": "stream",
     "text": [
      "<|startoftext|>\n",
      "[Story ID: Howls Moving Castle][Part: 2 of 105]\n",
      ".  Didn't you see those battle \n",
      "ships just passed in front of the window?  \n",
      "\n",
      "Have you heard of a girl, Martha, lives in South town?  Her heart was stolen \n",
      "by Howl.  \n",
      "\n",
      "I'm scared. . .  Don't worry.  He won t go after yours.  \n",
      "\n",
      "Come on, girls!  Hurry up!  \n",
      "\n",
      "How do you know that?  \n",
      "\n",
      "Hey, you, little mouse.  Are you looking for something?  \n",
      "\n",
      "No, sir.  Nothing.  \n",
      "\n",
      "Then, how about having a cup of tea with us?  \n",
      "\n",
      "No thanks.  I'm in a hurry\n",
      "\n",
      "She is really a little mouse!  \n",
      "\n",
      "Yes.  .  how old are you?  Yo\n",
      "<|endoftext|>\n"
     ]
    }
   ],
   "source": [
    "print(final_chunks[1])"
   ]
  },
  {
   "cell_type": "code",
   "execution_count": 75,
   "id": "1d582425-a588-4d94-88e1-b6b86c6b0c8b",
   "metadata": {},
   "outputs": [],
   "source": [
    "from datasets import Dataset\n",
    "dataset = Dataset.from_dict({\"text\": final_chunks})"
   ]
  },
  {
   "cell_type": "code",
   "execution_count": 77,
   "id": "e85be065-f0ad-439f-be99-1902d3c1cca4",
   "metadata": {},
   "outputs": [
    {
     "data": {
      "text/plain": [
       "{'text': \"<|startoftext|>\\n[Story ID: Howls Moving Castle][Part: 1 of 105]\\n\\nBettie Sophie, I just closed the shop.  \\n\\nI thought you were coming?  \\n\\nI have to finish this.  I hope you enjoy.  \\n\\nOK, I'm off.  \\n\\nLet's go girls.  Wait up!  Isn't anything wrong with my dress, is it?  Check \\nit out!  Howl's castle is there.  \\n\\nYeah?  The castle?  Where?  It's over there!  Wow!  So close!  \\n\\nOh, my. . .  I wonder if Howl is in town.  \\n\\nOh, it's gone!  It just hidden in the mist.  Didn't you see those battle \\nships just passed in front of the window?  \\n\\nHave you heard of a gir\\n<|endoftext|>\"}"
      ]
     },
     "execution_count": 77,
     "metadata": {},
     "output_type": "execute_result"
    }
   ],
   "source": [
    "dataset[0]"
   ]
  }
 ],
 "metadata": {
  "kernelspec": {
   "display_name": "Python 3 (ipykernel)",
   "language": "python",
   "name": "python3"
  },
  "language_info": {
   "codemirror_mode": {
    "name": "ipython",
    "version": 3
   },
   "file_extension": ".py",
   "mimetype": "text/x-python",
   "name": "python",
   "nbconvert_exporter": "python",
   "pygments_lexer": "ipython3",
   "version": "3.8.20"
  }
 },
 "nbformat": 4,
 "nbformat_minor": 5
}
