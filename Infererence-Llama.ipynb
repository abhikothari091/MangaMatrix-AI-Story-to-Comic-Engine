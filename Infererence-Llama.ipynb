{
 "cells": [
  {
   "cell_type": "code",
   "execution_count": 2,
   "id": "6959d734-1dc7-4d2a-a11c-d533891bdca5",
   "metadata": {},
   "outputs": [
    {
     "data": {
      "application/vnd.jupyter.widget-view+json": {
       "model_id": "5f5a29aaaeaf4ad4a99bb8ca2e50b21a",
       "version_major": 2,
       "version_minor": 0
      },
      "text/plain": [
       "Loading checkpoint shards:   0%|          | 0/2 [00:00<?, ?it/s]"
      ]
     },
     "metadata": {},
     "output_type": "display_data"
    }
   ],
   "source": [
    "from peft import PeftModel, PeftConfig\n",
    "import torch, re\n",
    "from transformers import AutoModelForCausalLM, AutoTokenizer\n",
    "\n",
    "peft_model_id = \"vignesh0007/Anime-Gen-Llama-2-7B\"\n",
    "\n",
    "\n",
    "config = PeftConfig.from_pretrained(peft_model_id)\n",
    "\n",
    "base_model = AutoModelForCausalLM.from_pretrained(\n",
    "    config.base_model_name_or_path,\n",
    "    device_map=\"auto\",\n",
    "    trust_remote_code=True\n",
    ")\n",
    "\n",
    "model = PeftModel.from_pretrained(base_model, peft_model_id)\n",
    "tokenizer = AutoTokenizer.from_pretrained(peft_model_id)"
   ]
  },
  {
   "cell_type": "code",
   "execution_count": 3,
   "id": "faff2273-a220-4820-bea7-bb5529681990",
   "metadata": {},
   "outputs": [],
   "source": [
    "def build_prompt(premise):\n",
    "    return f\"\"\"Below are examples of anime short stories, each structured into exactly 5 manga panels:\n",
    "\n",
    "---\n",
    "\n",
    "Title: The Last Samurai  \n",
    "Characters: Ryu, Hana, Master Kaito  \n",
    "Panel 1: Ryu trains fiercely under Master Kaito's watchful eyes at dawn.  \n",
    "Panel 2: Hana secretly watches Ryu from behind a cherry blossom tree, smiling gently.  \n",
    "Panel 3: Enemy samurai burst into the dojo; Master Kaito steps forward confidently.  \n",
    "Panel 4: Ryu and Hana fight side-by-side against the attackers, swords clashing dramatically.  \n",
    "Panel 5: With enemies defeated, Ryu and Hana exchange quiet glances beneath falling cherry blossoms.  \n",
    "\n",
    "---\n",
    "\n",
    "Title: The Spirit Painter  \n",
    "Characters: Mei, Old Master Kuro  \n",
    "Panel 1: Mei enters a forgotten temple, sketchbook in hand, led by whispers of a legendary painter.  \n",
    "Panel 2: She finds a crumbling mural with faded colors that seem to shift when she draws near.  \n",
    "Panel 3: As she sketches, a phantom hand begins painting beside her, matching her every stroke.  \n",
    "Panel 4: The mural comes to life, revealing Old Master Kuro, whose spirit had waited for centuries.  \n",
    "Panel 5: The two artists nod in understanding before he fades, leaving Mei’s sketchbook glowing softly.  \n",
    "\n",
    "---\n",
    "\n",
    "Now, create another short anime story structured into exactly 5 manga panels based on this premise:\n",
    "\n",
    "**Premise:** {premise}\n",
    "\n",
    "Title:\"\"\""
   ]
  },
  {
   "cell_type": "code",
   "execution_count": 5,
   "id": "d232491e-7323-4eaa-8f3a-5e6bdc17afec",
   "metadata": {},
   "outputs": [],
   "source": [
    "def clean_story(generated_text: str):\n",
    "    match = re.search(r\"(Panel 5:.*?)(\\n|$)\", generated_text, flags=re.DOTALL)\n",
    "    if match:\n",
    "        return generated_text[:match.end()].strip()\n",
    "    return generated_text.strip()\n"
   ]
  },
  {
   "cell_type": "code",
   "execution_count": 6,
   "id": "d14d37f9-b9d1-43f8-905c-d45515899908",
   "metadata": {},
   "outputs": [],
   "source": [
    "def generate_story_from_premise(premise: str):\n",
    "    prompt = build_prompt(premise)\n",
    "    inputs = tokenizer(prompt, return_tensors=\"pt\", padding=True).to(model.device)\n",
    "\n",
    "    with torch.no_grad():\n",
    "        outputs = model.generate(\n",
    "            **inputs,\n",
    "            max_new_tokens=256,\n",
    "            temperature=0.8,\n",
    "            top_p=0.95,\n",
    "            repetition_penalty=1.1,\n",
    "            do_sample=True,\n",
    "            eos_token_id=None\n",
    "        )\n",
    "\n",
    "    full_output = tokenizer.decode(outputs[0], skip_special_tokens=True)\n",
    "    story = full_output[len(prompt):].strip()\n",
    "    story = clean_story(story)\n",
    "    return story"
   ]
  },
  {
   "cell_type": "code",
   "execution_count": 12,
   "id": "ee58bdf1-9f29-4ca1-b85d-574d6820ab7d",
   "metadata": {},
   "outputs": [
    {
     "name": "stdout",
     "output_type": "stream",
     "text": [
      "Rainy Day  \n",
      "Characters: Rin, Momo  \n",
      "Panel 1: Girl stares out rain-streaked window while playing piano  \n",
      "Panel 2: Outside, the world turns to sunny blue skies  \n",
      "Panel 3: Girl plays final chord as sun sets, causing rain clouds to form again  \n",
      "Panel 4: A smile creeps across face as it rains outside  \n",
      "Panel 5: Girl opens window, letting drops hit her face\n"
     ]
    }
   ],
   "source": [
    "premise = \"Every time a girl plays a certain song, the sky changes color.\"\n",
    "story = generate_story_from_premise(premise)\n",
    "print(story)"
   ]
  },
  {
   "cell_type": "code",
   "execution_count": null,
   "id": "b8c11560-6c99-4e36-b96c-8bfc87405923",
   "metadata": {},
   "outputs": [],
   "source": []
  }
 ],
 "metadata": {
  "kernelspec": {
   "display_name": "Python 3",
   "language": "python",
   "name": "python3"
  },
  "language_info": {
   "codemirror_mode": {
    "name": "ipython",
    "version": 3
   },
   "file_extension": ".py",
   "mimetype": "text/x-python",
   "name": "python",
   "nbconvert_exporter": "python",
   "pygments_lexer": "ipython3",
   "version": "3.8.8"
  }
 },
 "nbformat": 4,
 "nbformat_minor": 5
}
