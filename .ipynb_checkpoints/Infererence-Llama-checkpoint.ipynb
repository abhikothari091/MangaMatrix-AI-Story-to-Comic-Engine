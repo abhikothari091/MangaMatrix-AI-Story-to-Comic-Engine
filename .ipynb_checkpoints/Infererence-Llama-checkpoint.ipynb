{
 "cells": [
  {
   "cell_type": "code",
   "execution_count": 1,
   "id": "6959d734-1dc7-4d2a-a11c-d533891bdca5",
   "metadata": {},
   "outputs": [
    {
     "ename": "ModuleNotFoundError",
     "evalue": "No module named 'peft'",
     "output_type": "error",
     "traceback": [
      "\u001b[1;31m---------------------------------------------------------------------------\u001b[0m",
      "\u001b[1;31mModuleNotFoundError\u001b[0m                       Traceback (most recent call last)",
      "Cell \u001b[1;32mIn[1], line 1\u001b[0m\n\u001b[1;32m----> 1\u001b[0m \u001b[38;5;28;01mfrom\u001b[39;00m \u001b[38;5;21;01mpeft\u001b[39;00m \u001b[38;5;28;01mimport\u001b[39;00m AutoPeftModelForCausalLM\n\u001b[0;32m      2\u001b[0m \u001b[38;5;28;01mfrom\u001b[39;00m \u001b[38;5;21;01mtransformers\u001b[39;00m \u001b[38;5;28;01mimport\u001b[39;00m AutoTokenizer\n\u001b[0;32m      4\u001b[0m peft_model_id \u001b[38;5;241m=\u001b[39m \u001b[38;5;124m\"\u001b[39m\u001b[38;5;124mvignesh0007/Anime-Gen-Llama-2-7B\u001b[39m\u001b[38;5;124m\"\u001b[39m\n",
      "\u001b[1;31mModuleNotFoundError\u001b[0m: No module named 'peft'"
     ]
    }
   ],
   "source": [
    "from peft import AutoPeftModelForCausalLM\n",
    "from transformers import AutoTokenizer\n",
    "import torch, re\n",
    "peft_model_id = \"vignesh0007/Anime-Gen-Llama-2-7B\"\n",
    "\n",
    "model = AutoPeftModelForCausalLM.from_pretrained(\n",
    "    peft_model_id,\n",
    "    device_map=\"auto\",\n",
    "    torch_dtype=\"auto\"\n",
    ")\n",
    "\n",
    "tokenizer = AutoTokenizer.from_pretrained(peft_model_id)"
   ]
  },
  {
   "cell_type": "code",
   "execution_count": 3,
   "id": "faff2273-a220-4820-bea7-bb5529681990",
   "metadata": {},
   "outputs": [],
   "source": [
    "def build_prompt(premise):\n",
    "    return f\"\"\"Below are examples of anime short stories, each structured into exactly 5 manga panels:\n",
    "\n",
    "---\n",
    "\n",
    "Title: The Last Samurai  \n",
    "Characters: Ryu, Hana, Master Kaito  \n",
    "Panel 1: Ryu trains fiercely under Master Kaito's watchful eyes at dawn.  \n",
    "Panel 2: Hana secretly watches Ryu from behind a cherry blossom tree, smiling gently.  \n",
    "Panel 3: Enemy samurai burst into the dojo; Master Kaito steps forward confidently.  \n",
    "Panel 4: Ryu and Hana fight side-by-side against the attackers, swords clashing dramatically.  \n",
    "Panel 5: With enemies defeated, Ryu and Hana exchange quiet glances beneath falling cherry blossoms.  \n",
    "\n",
    "---\n",
    "\n",
    "Title: The Spirit Painter  \n",
    "Characters: Mei, Old Master Kuro  \n",
    "Panel 1: Mei enters a forgotten temple, sketchbook in hand, led by whispers of a legendary painter.  \n",
    "Panel 2: She finds a crumbling mural with faded colors that seem to shift when she draws near.  \n",
    "Panel 3: As she sketches, a phantom hand begins painting beside her, matching her every stroke.  \n",
    "Panel 4: The mural comes to life, revealing Old Master Kuro, whose spirit had waited for centuries.  \n",
    "Panel 5: The two artists nod in understanding before he fades, leaving Mei’s sketchbook glowing softly.  \n",
    "\n",
    "---\n",
    "\n",
    "Now, create another short anime story structured into exactly 5 manga panels based on this premise:\n",
    "\n",
    "**Premise:** {premise}\n",
    "\n",
    "Title:\"\"\""
   ]
  },
  {
   "cell_type": "code",
   "execution_count": 5,
   "id": "d232491e-7323-4eaa-8f3a-5e6bdc17afec",
   "metadata": {},
   "outputs": [],
   "source": [
    "def clean_story(generated_text: str):\n",
    "    match = re.search(r\"(Panel 5:.*?)(\\n|$)\", generated_text, flags=re.DOTALL)\n",
    "    if match:\n",
    "        return generated_text[:match.end()].strip()\n",
    "    return generated_text.strip()\n"
   ]
  },
  {
   "cell_type": "code",
   "execution_count": 6,
   "id": "d14d37f9-b9d1-43f8-905c-d45515899908",
   "metadata": {},
   "outputs": [],
   "source": [
    "def generate_story_from_premise(premise: str):\n",
    "    prompt = build_prompt(premise)\n",
    "    inputs = tokenizer(prompt, return_tensors=\"pt\", padding=True).to(model.device)\n",
    "\n",
    "    with torch.no_grad():\n",
    "        outputs = model.generate(\n",
    "            **inputs,\n",
    "            max_new_tokens=256,\n",
    "            temperature=0.8,\n",
    "            top_p=0.95,\n",
    "            repetition_penalty=1.1,\n",
    "            do_sample=True,\n",
    "            eos_token_id=None\n",
    "        )\n",
    "\n",
    "    full_output = tokenizer.decode(outputs[0], skip_special_tokens=True)\n",
    "    story = full_output[len(prompt):].strip()\n",
    "    story = clean_story(story)\n",
    "    return story"
   ]
  },
  {
   "cell_type": "code",
   "execution_count": 12,
   "id": "ee58bdf1-9f29-4ca1-b85d-574d6820ab7d",
   "metadata": {},
   "outputs": [
    {
     "name": "stdout",
     "output_type": "stream",
     "text": [
      "Rainy Day  \n",
      "Characters: Rin, Momo  \n",
      "Panel 1: Girl stares out rain-streaked window while playing piano  \n",
      "Panel 2: Outside, the world turns to sunny blue skies  \n",
      "Panel 3: Girl plays final chord as sun sets, causing rain clouds to form again  \n",
      "Panel 4: A smile creeps across face as it rains outside  \n",
      "Panel 5: Girl opens window, letting drops hit her face\n"
     ]
    }
   ],
   "source": [
    "premise = \"Every time a girl plays a certain song, the sky changes color.\"\n",
    "story = generate_story_from_premise(premise)\n",
    "print(story)"
   ]
  },
  {
   "cell_type": "code",
   "execution_count": null,
   "id": "b8c11560-6c99-4e36-b96c-8bfc87405923",
   "metadata": {},
   "outputs": [],
   "source": []
  }
 ],
 "metadata": {
  "kernelspec": {
   "display_name": "Python 3 (ipykernel)",
   "language": "python",
   "name": "python3"
  },
  "language_info": {
   "codemirror_mode": {
    "name": "ipython",
    "version": 3
   },
   "file_extension": ".py",
   "mimetype": "text/x-python",
   "name": "python",
   "nbconvert_exporter": "python",
   "pygments_lexer": "ipython3",
   "version": "3.8.20"
  }
 },
 "nbformat": 4,
 "nbformat_minor": 5
}
